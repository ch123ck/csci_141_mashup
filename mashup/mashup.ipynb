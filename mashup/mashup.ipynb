{
 "cells": [
  {
   "cell_type": "markdown",
   "metadata": {},
   "source": [
    "<img src=\"http://www.cs.wm.edu/~rml/images/wm_horizontal_single_line_full_color.png\">\n",
    "\n",
    "\n",
    "<h1 style=\"text-align:center;\">CSCI 141, Fall 2020</h1>\n",
    "<h1 style=\"text-align:center;\">Project: searching files; reading and copying webpages</h1>"
   ]
  },
  {
   "cell_type": "markdown",
   "metadata": {},
   "source": [
    "# Part I: searching files\n",
    "\n",
    "In this project you will make a simple version of the Unix/Linux <code>fgrep</code> program for searching files for a specified string (the name <code>fgrep</code> comes from \"fixed regular expression\").  You should work through the <code>file_io.ipynb</code> notebook as part of this project."
   ]
  },
  {
   "cell_type": "markdown",
   "metadata": {},
   "source": [
    "This time you are writing a program (named <code>fgrep.py</code>) rather than a function.  Your program should behave as follows.  When invoked via\n",
    "<pre>\n",
    "python fgrep.py foo file1 file2 file3 file4\n",
    "</pre>\n",
    "will search in order the files <code>file1, file2, &hellip;</code> for the string <code>foo</code>.  Whenever it finds this word in a line of the file, it will print the name of the file and the line.  The output should\n",
    "look like this:\n",
    "<pre>\n",
    "file1: foo is a metasyntactic variable\n",
    "file2: foobar() is a good name for a function\n",
    "file3: foo is not a good name for a baby\n",
    "</pre>"
   ]
  },
  {
   "cell_type": "markdown",
   "metadata": {},
   "source": [
    "## Comments:\n",
    "* You can either read each file line-by-line or you can read the entire file into a variable and then split it up into lines."
   ]
  },
  {
   "cell_type": "markdown",
   "metadata": {},
   "source": [
    "# How to retrieve command line arguments\n",
    "\n",
    "From your program you can retrieve the information from command line via the\n",
    "[sys.argv](https://docs.python.org/3/library/sys.html?highlight=sys.argv%23sys.argv#sys.argv)variable:\n",
    "<code>\n",
    "import sys\n",
    "print(sys.argv)\n",
    "</code>\n",
    "This variable is a list of strings.  If you invoked the function as above, it would have the value\n",
    "<code>\n",
    "['fgrep.py', 'foo', 'file1', 'file2', 'file3', 'file4']\n",
    "</code>\n",
    "You should experiment with <code>sys.argv</code> until you are confident you understand it."
   ]
  },
  {
   "cell_type": "markdown",
   "metadata": {},
   "source": [
    "## What to upload\n",
    "\n",
    "Upload <code>fgrep.py</code> via the Blackboard site."
   ]
  },
  {
   "cell_type": "markdown",
   "metadata": {},
   "source": [
    "# Part 2: retrieving data from the interwebs\n",
    "\n",
    "In this project you will make a simple version of the <code>wget</code> program for downloading data from the web.\n",
    "This will give you a Pythonic, command line alternative to downloading by opening a file in a browser and trying to save it."
   ]
  },
  {
   "cell_type": "markdown",
   "metadata": {},
   "source": [
    "# <code>urllib.request</code>\n",
    "\n",
    "The [<code>urllib.request</code> module](https://docs.python.org/3/library/urllib.request.html) is an easy to use\n",
    "module for opening and reading files on tbe Web.  Files are specified by their web address, formally known as a Uniform Resource Locator (URL).  For instance, the URL for Amazon is [https://www.amazon.com](https://www.amazon.com).  The <code>https</code> indicates that this URL interacts with the outside world via the secure HTTP (Hypertext Transfer Protocol) scheme."
   ]
  },
  {
   "cell_type": "markdown",
   "metadata": {},
   "source": [
    "## Reading a webpage into a variable\n",
    "\n",
    "Here's how we can read a webpage into a variable:"
   ]
  },
  {
   "cell_type": "code",
   "execution_count": null,
   "metadata": {},
   "outputs": [],
   "source": [
    "import urllib.request\n",
    "\n",
    "URL = 'http://www.cs.wm.edu/~rml/teaching/csci141/jupyter/alice.txt'\n",
    "\n",
    "# Notice the similiarity to opening and reading a file:\n",
    "with urllib.request.urlopen(URL) as url:\n",
    "    s = url.read()"
   ]
  },
  {
   "cell_type": "markdown",
   "metadata": {},
   "source": [
    "The result is a variable of type [<code>bytes</code>](https://docs.python.org/3/library/stdtypes.html#binary-sequence-types-bytes-bytearray-memoryview):"
   ]
  },
  {
   "cell_type": "code",
   "execution_count": null,
   "metadata": {},
   "outputs": [],
   "source": [
    "print(type(s)) \n",
    "print(s)"
   ]
  },
  {
   "cell_type": "markdown",
   "metadata": {},
   "source": [
    "The reason this is bytes rather than a string is that non-ASCII characters can be encoded in several different ways, and Python does not make assumptions about the encoding scheme.\n",
    "\n",
    "By far the most common encoding scheme is [UTF-8](https://en.wikipedia.org/wiki/UTF-8).  Since our file is an ASCII text file it it safe to use UTF-8 to decode the web page to turn it into a string:"
   ]
  },
  {
   "cell_type": "code",
   "execution_count": null,
   "metadata": {
    "scrolled": true
   },
   "outputs": [],
   "source": [
    "text = s.decode('utf-8')\n",
    "\n",
    "print(type(text))\n",
    "print(text)"
   ]
  },
  {
   "cell_type": "markdown",
   "metadata": {},
   "source": [
    "## Copying a webpage to a file\n",
    "\n",
    "We can also copy a webpage directly to a file using the [shutil.copyobj()](https://docs.python.org/3/library/shutil.html#shutil.copyfileobj) function:"
   ]
  },
  {
   "cell_type": "code",
   "execution_count": null,
   "metadata": {},
   "outputs": [],
   "source": [
    "import shutil\n",
    "\n",
    "local_file = 'alice.txt'\n",
    "\n",
    "with urllib.request.urlopen(URL) as url:\n",
    "    with open(local_file, 'bw') as file:\n",
    "        shutil.copyfileobj(url, file)"
   ]
  },
  {
   "cell_type": "markdown",
   "metadata": {},
   "source": [
    "**NB:** Note the mode used to open the destination file: <code>'bw'</code>.  The <code>'bw'</code> indicates the file should be opened as writable in **binary mode** as opposed to **text mode**.  This is because the data to be written is of type <code>bytes</code> rather than simple ASCII text.\n",
    "\n",
    "Try removing the 'b' and see what happens."
   ]
  },
  {
   "cell_type": "markdown",
   "metadata": {},
   "source": [
    "# A <code>wget</code> program\n",
    "\n",
    "Write a program <code>wget.py</code> so that the invokation \n",
    "<pre>\n",
    "python wget.py http://www.cs.wm.edu/~rml/teaching/csci141/jupyter/alice.txt foo.txt\n",
    "</pre>\n",
    "will copy the file with the URL <code>http://www.cs.wm.edu/~rml/teaching/csci141/jupyter/alice.txt</code> to a file named <code>foo.txt</code>.  You will need to retrieve the command line arguments via <code>sys.argv</code>."
   ]
  },
  {
   "cell_type": "markdown",
   "metadata": {},
   "source": [
    "## What to upload\n",
    "\n",
    "Upload your file <code>wget.py</code> via Blackboard."
   ]
  },
  {
   "cell_type": "code",
   "execution_count": null,
   "metadata": {},
   "outputs": [],
   "source": []
  }
 ],
 "metadata": {
  "kernelspec": {
   "display_name": "Python 3",
   "language": "python",
   "name": "python3"
  },
  "language_info": {
   "codemirror_mode": {
    "name": "ipython",
    "version": 3
   },
   "file_extension": ".py",
   "mimetype": "text/x-python",
   "name": "python",
   "nbconvert_exporter": "python",
   "pygments_lexer": "ipython3",
   "version": "3.8.3"
  }
 },
 "nbformat": 4,
 "nbformat_minor": 4
}
